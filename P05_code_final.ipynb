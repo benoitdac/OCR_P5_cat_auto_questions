{
 "cells": [
  {
   "cell_type": "markdown",
   "id": "0ec43ec3",
   "metadata": {},
   "source": [
    "<h1 STYLE=\"padding-left:1em;text-align: center;\">Projet 05 : Catégorisez automatiquement des questions </h1> "
   ]
  },
  {
   "cell_type": "markdown",
   "id": "bd6468c5",
   "metadata": {},
   "source": [
    "#  Introduction  \n",
    "<p STYLE=\"padding-left:1em;text-align:justify;\">Dans ce projet, nous allons proposer une analyse textuelle des questions posées sur le site de 'Stackoverflow' afin de développer un système de suggestion de tag pour le site. Celui-ci prendra la forme d'un algorithme de machine learning qui assignera automatiquement plusieurs tags à une question posée. \n",
    "      \n",
    "<p STYLE=\"padding-left:1em;text-align:justify;\">Ce notebook regroupe les différents travaux menés sur le nettoyage et l'exploration des données."
   ]
  },
  {
   "cell_type": "markdown",
   "id": "b07f39f5",
   "metadata": {},
   "source": [
    "# Sommaire\n",
    "<a href=\"#1\" STYLE=\"padding-left:1em;color:black\"><b>Etape 1 : Importation des librairies et des fonctions graphiques</b></a><br>\n",
    "<a href=\"#2\" STYLE=\"padding-left:1em;color:black\"><b>Etape 2 : Code final</b></a><br>"
   ]
  },
  {
   "cell_type": "markdown",
   "id": "d693ba9f",
   "metadata": {},
   "source": [
    "# <a STYLE=\"color:black\" id=\"1\">Etape 1 : Importation des librairies"
   ]
  },
  {
   "cell_type": "code",
   "execution_count": null,
   "id": "c600c396",
   "metadata": {},
   "outputs": [],
   "source": [
    "%matplotlib inline\n",
    "\n",
    "import os\n",
    "from pathlib import Path\n",
    "import re\n",
    "\n",
    "from time import time\n",
    "from math import radians, cos, sin, asin, sqrt\n",
    "import pandas as pd\n",
    "import numpy as np\n",
    "import matplotlib.pyplot as plt\n",
    "import seaborn as sns\n",
    "from matplotlib.collections import LineCollection\n",
    "\n",
    "from joblib import parallel_backend, Parallel, delayed , dump , load\n",
    "from joblib import wrap_non_picklable_objects\n",
    "from joblib.externals.loky import set_loky_pickler\n",
    "\n",
    "from function import SupervisedModel\n",
    "\n",
    "import warnings\n",
    "warnings.filterwarnings('ignore')\n",
    "\n",
    "pd.set_option('display.max_columns',200)\n",
    "pd.set_option('display.max_colwidth', 200)"
   ]
  },
  {
   "cell_type": "markdown",
   "id": "390c8cc1",
   "metadata": {},
   "source": [
    "# <a STYLE=\"color:black\" id=\"2\">Etape 2 : Code final "
   ]
  },
  {
   "cell_type": "code",
   "execution_count": null,
   "id": "8ad8f5af",
   "metadata": {},
   "outputs": [],
   "source": [
    "text = 'python table raw'"
   ]
  },
  {
   "cell_type": "code",
   "execution_count": null,
   "id": "848951ce",
   "metadata": {},
   "outputs": [],
   "source": [
    "tags_predict = SupervisedModel()\n",
    "tags_predict.predict_tags(text = text, tf_idf = False)"
   ]
  }
 ],
 "metadata": {
  "kernelspec": {
   "display_name": "Python 3 (ipykernel)",
   "language": "python",
   "name": "python3"
  },
  "language_info": {
   "codemirror_mode": {
    "name": "ipython",
    "version": 3
   },
   "file_extension": ".py",
   "mimetype": "text/x-python",
   "name": "python",
   "nbconvert_exporter": "python",
   "pygments_lexer": "ipython3",
   "version": "3.9.7"
  }
 },
 "nbformat": 4,
 "nbformat_minor": 5
}
